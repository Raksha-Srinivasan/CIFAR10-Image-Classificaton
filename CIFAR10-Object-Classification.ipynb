{
  "cells": [
    {
      "cell_type": "code",
      "execution_count": 1,
      "metadata": {
        "id": "Ak7ZLzeRg8mu"
      },
      "outputs": [],
      "source": [
        "import numpy as np\n",
        "import matplotlib.pyplot as plt\n",
        "from sklearn.metrics import confusion_matrix,classification_report\n",
        "\n",
        "import tensorflow as tf\n",
        "import keras\n",
        "from tensorflow.keras import datasets,layers,models"
      ]
    },
    {
      "cell_type": "markdown",
      "source": [
        "# **Loading the data**"
      ],
      "metadata": {
        "id": "3t2g-Mr2NoEi"
      }
    },
    {
      "cell_type": "code",
      "execution_count": 2,
      "metadata": {
        "colab": {
          "base_uri": "https://localhost:8080/"
        },
        "id": "0e0qvGc6i3hU",
        "outputId": "e719b54c-2f5d-4e09-8a89-1fd28a493f4a"
      },
      "outputs": [
        {
          "output_type": "stream",
          "name": "stdout",
          "text": [
            "Downloading data from https://www.cs.toronto.edu/~kriz/cifar-10-python.tar.gz\n",
            "170500096/170498071 [==============================] - 4s 0us/step\n",
            "170508288/170498071 [==============================] - 4s 0us/step\n"
          ]
        }
      ],
      "source": [
        "(X_train,y_train),(X_test,y_test)=keras.datasets.cifar10.load_data()"
      ]
    },
    {
      "cell_type": "markdown",
      "source": [
        "# **Splitting Phase**"
      ],
      "metadata": {
        "id": "4i6o1ZuENvzO"
      }
    },
    {
      "cell_type": "code",
      "execution_count": 3,
      "metadata": {
        "colab": {
          "base_uri": "https://localhost:8080/"
        },
        "id": "xOmzHj1sk2Nv",
        "outputId": "7ae7db07-614f-455d-a4f7-6a0b97c4e47f"
      },
      "outputs": [
        {
          "output_type": "execute_result",
          "data": {
            "text/plain": [
              "(50000, 32, 32, 3)"
            ]
          },
          "metadata": {},
          "execution_count": 3
        }
      ],
      "source": [
        "X_train.shape\n"
      ]
    },
    {
      "cell_type": "code",
      "execution_count": 4,
      "metadata": {
        "colab": {
          "base_uri": "https://localhost:8080/"
        },
        "id": "C5MzKvizk6mO",
        "outputId": "6b7bd860-4703-4bd1-87e0-8f3de5438836"
      },
      "outputs": [
        {
          "output_type": "execute_result",
          "data": {
            "text/plain": [
              "(10000, 32, 32, 3)"
            ]
          },
          "metadata": {},
          "execution_count": 4
        }
      ],
      "source": [
        "X_test.shape"
      ]
    },
    {
      "cell_type": "code",
      "execution_count": 5,
      "metadata": {
        "colab": {
          "base_uri": "https://localhost:8080/"
        },
        "id": "ZhIM1Pcik9Ox",
        "outputId": "a86144ec-2146-43ee-b1f2-9d3d2d7b0f65"
      },
      "outputs": [
        {
          "output_type": "execute_result",
          "data": {
            "text/plain": [
              "array([6, 9, 9, 4, 1], dtype=uint8)"
            ]
          },
          "metadata": {},
          "execution_count": 5
        }
      ],
      "source": [
        "y_train=y_train.reshape(-1,)\n",
        "y_train[:5]"
      ]
    },
    {
      "cell_type": "code",
      "execution_count": 6,
      "metadata": {
        "id": "4GqcV1P2lIs-"
      },
      "outputs": [],
      "source": [
        "objects=[\"airplane\",\"automobile\",\"bird\",\"cat\",\"deer\",\"dog\",\"frog\",\"horse\",\"ship\",\"truck\"]"
      ]
    },
    {
      "cell_type": "code",
      "execution_count": 7,
      "metadata": {
        "colab": {
          "base_uri": "https://localhost:8080/",
          "height": 35
        },
        "id": "-mVYSvlZlcwc",
        "outputId": "d08c5501-618c-45ee-800d-f3638ad30027"
      },
      "outputs": [
        {
          "output_type": "execute_result",
          "data": {
            "application/vnd.google.colaboratory.intrinsic+json": {
              "type": "string"
            },
            "text/plain": [
              "'bird'"
            ]
          },
          "metadata": {},
          "execution_count": 7
        }
      ],
      "source": [
        "objects[2]"
      ]
    },
    {
      "cell_type": "code",
      "execution_count": 8,
      "metadata": {
        "colab": {
          "base_uri": "https://localhost:8080/",
          "height": 35
        },
        "id": "S9wAH9VQlfkQ",
        "outputId": "083fa9a2-56be-4a2e-a412-dd18088ab585"
      },
      "outputs": [
        {
          "output_type": "execute_result",
          "data": {
            "application/vnd.google.colaboratory.intrinsic+json": {
              "type": "string"
            },
            "text/plain": [
              "'airplane'"
            ]
          },
          "metadata": {},
          "execution_count": 8
        }
      ],
      "source": [
        "objects[0]"
      ]
    },
    {
      "cell_type": "code",
      "execution_count": 9,
      "metadata": {
        "id": "WOMSdEf6llHN"
      },
      "outputs": [],
      "source": [
        "def data(X,y,index):\n",
        "    plt.figure(figsize=(14,2))\n",
        "    plt.imshow(X[index])\n",
        "    plt.xlabel(objects[y[index]])"
      ]
    },
    {
      "cell_type": "code",
      "execution_count": 10,
      "metadata": {
        "colab": {
          "base_uri": "https://localhost:8080/",
          "height": 172
        },
        "id": "rDE8G5zBlq0q",
        "outputId": "30bbb372-bee5-4511-fb95-1a5902f3a931"
      },
      "outputs": [
        {
          "output_type": "display_data",
          "data": {
            "image/png": "[encoded data removed]",
            "text/plain": [
              "<Figure size 1008x144 with 1 Axes>"
            ]
          },
          "metadata": {
            "needs_background": "light"
          }
        }
      ],
      "source": [
        "data(X_train,y_train,5)"
      ]
    },
    {
      "cell_type": "code",
      "execution_count": 11,
      "metadata": {
        "colab": {
          "base_uri": "https://localhost:8080/",
          "height": 172
        },
        "id": "PvMMWFVjmELP",
        "outputId": "fe9abc70-3946-425a-ae87-0006e8fe2265"
      },
      "outputs": [
        {
          "output_type": "display_data",
          "data": {
            "image/png": "[encoded data removed]",
            "text/plain": [
              "<Figure size 1008x144 with 1 Axes>"
            ]
          },
          "metadata": {
            "needs_background": "light"
          }
        }
      ],
      "source": [
        "data(X_train,y_train,88)"
      ]
    },
    {
      "cell_type": "code",
      "execution_count": 12,
      "metadata": {
        "colab": {
          "base_uri": "https://localhost:8080/",
          "height": 172
        },
        "id": "kVOgIN-amJT4",
        "outputId": "39ba5307-59c1-4096-f600-e77cd6d744fe"
      },
      "outputs": [
        {
          "output_type": "display_data",
          "data": {
            "image/png": "[encoded data removed]",
            "text/plain": [
              "<Figure size 1008x144 with 1 Axes>"
            ]
          },
          "metadata": {
            "needs_background": "light"
          }
        }
      ],
      "source": [
        "data(X_train,y_train,19)"
      ]
    },
    {
      "cell_type": "code",
      "execution_count": 13,
      "metadata": {
        "colab": {
          "base_uri": "https://localhost:8080/",
          "height": 172
        },
        "id": "7nq4B1zamNcV",
        "outputId": "a27c9c9f-59c4-4c36-c299-b810240f3ab3"
      },
      "outputs": [
        {
          "output_type": "display_data",
          "data": {
            "image/png": "[encoded data removed]",
            "text/plain": [
              "<Figure size 1008x144 with 1 Axes>"
            ]
          },
          "metadata": {
            "needs_background": "light"
          }
        }
      ],
      "source": [
        "data(X_train,y_train,3)"
      ]
    },
    {
      "cell_type": "code",
      "execution_count": 14,
      "metadata": {
        "colab": {
          "base_uri": "https://localhost:8080/",
          "height": 172
        },
        "id": "VizYhXPlm10X",
        "outputId": "93bcaffd-3f7f-4234-a12a-57d2db1e598c"
      },
      "outputs": [
        {
          "output_type": "display_data",
          "data": {
            "image/png": "[encoded data removed]",
            "text/plain": [
              "<Figure size 1008x144 with 1 Axes>"
            ]
          },
          "metadata": {
            "needs_background": "light"
          }
        }
      ],
      "source": [
        "data(X_train,y_train,12)"
      ]
    },
    {
      "cell_type": "markdown",
      "source": [
        "# **Normalization**"
      ],
      "metadata": {
        "id": "ZY-YrYm2NPjz"
      }
    },
    {
      "cell_type": "code",
      "execution_count": 15,
      "metadata": {
        "id": "_D94_40Om9qK"
      },
      "outputs": [],
      "source": [
        "X_train=X_train/255\n",
        "X_test=X_test/255"
      ]
    },
    {
      "cell_type": "markdown",
      "source": [
        "# **Model Building**"
      ],
      "metadata": {
        "id": "Gn2kCRzMNYVp"
      }
    },
    {
      "cell_type": "code",
      "execution_count": 16,
      "metadata": {
        "id": "H5BJkcdenvGh"
      },
      "outputs": [],
      "source": [
        "model=models.Sequential([layers.Flatten(input_shape=(32,32,3)),layers.Dense(3000,activation='relu'),layers.Dense(1000,activation='relu'),layers.Dense(10,activation='softmax')])\n",
        "model.compile(optimizer='SGD',loss='sparse_categorical_crossentropy',metrics=['accuracy'])"
      ]
    },
    {
      "cell_type": "code",
      "execution_count": 17,
      "metadata": {
        "colab": {
          "base_uri": "https://localhost:8080/"
        },
        "id": "Od4HbsMOn6oz",
        "outputId": "31bb5e91-1d55-4940-fdd8-6ed0c0e0d169"
      },
      "outputs": [
        {
          "output_type": "stream",
          "name": "stdout",
          "text": [
            "Epoch 1/20\n",
            "1563/1563 [==============================] - 98s 62ms/step - loss: 1.8140 - accuracy: 0.3544\n",
            "Epoch 2/20\n",
            "1563/1563 [==============================] - 95s 60ms/step - loss: 1.6222 - accuracy: 0.4265\n",
            "Epoch 3/20\n",
            "1563/1563 [==============================] - 94s 60ms/step - loss: 1.5416 - accuracy: 0.4563\n",
            "Epoch 4/20\n",
            "1563/1563 [==============================] - 95s 61ms/step - loss: 1.4809 - accuracy: 0.4787\n",
            "Epoch 5/20\n",
            "1563/1563 [==============================] - 96s 61ms/step - loss: 1.4327 - accuracy: 0.4979\n",
            "Epoch 6/20\n",
            "1563/1563 [==============================] - 96s 61ms/step - loss: 1.3895 - accuracy: 0.5119\n",
            "Epoch 7/20\n",
            "1563/1563 [==============================] - 96s 62ms/step - loss: 1.3525 - accuracy: 0.5260\n",
            "Epoch 8/20\n",
            "1563/1563 [==============================] - 95s 61ms/step - loss: 1.3181 - accuracy: 0.5378\n",
            "Epoch 9/20\n",
            "1563/1563 [==============================] - 95s 61ms/step - loss: 1.2837 - accuracy: 0.5497\n",
            "Epoch 10/20\n",
            "1563/1563 [==============================] - 95s 61ms/step - loss: 1.2547 - accuracy: 0.5624\n",
            "Epoch 11/20\n",
            "1563/1563 [==============================] - 96s 61ms/step - loss: 1.2246 - accuracy: 0.5726\n",
            "Epoch 12/20\n",
            "1563/1563 [==============================] - 96s 61ms/step - loss: 1.1950 - accuracy: 0.5809\n",
            "Epoch 13/20\n",
            "1563/1563 [==============================] - 96s 61ms/step - loss: 1.1672 - accuracy: 0.5909\n",
            "Epoch 14/20\n",
            "1563/1563 [==============================] - 96s 61ms/step - loss: 1.1406 - accuracy: 0.6019\n",
            "Epoch 15/20\n",
            "1563/1563 [==============================] - 96s 62ms/step - loss: 1.1144 - accuracy: 0.6118\n",
            "Epoch 16/20\n",
            "1563/1563 [==============================] - 96s 61ms/step - loss: 1.0891 - accuracy: 0.6225\n",
            "Epoch 17/20\n",
            "1563/1563 [==============================] - 96s 61ms/step - loss: 1.0632 - accuracy: 0.6318\n",
            "Epoch 18/20\n",
            "1563/1563 [==============================] - 96s 61ms/step - loss: 1.0393 - accuracy: 0.6392\n",
            "Epoch 19/20\n",
            "1563/1563 [==============================] - 96s 61ms/step - loss: 1.0109 - accuracy: 0.6464\n",
            "Epoch 20/20\n",
            "1563/1563 [==============================] - 96s 61ms/step - loss: 0.9862 - accuracy: 0.6559\n"
          ]
        },
        {
          "output_type": "execute_result",
          "data": {
            "text/plain": [
              "<keras.callbacks.History at 0x7fcd17cc86d0>"
            ]
          },
          "metadata": {},
          "execution_count": 17
        }
      ],
      "source": [
        "model.fit(X_train,y_train,epochs=20)"
      ]
    },
    {
      "cell_type": "code",
      "execution_count": 18,
      "metadata": {
        "colab": {
          "base_uri": "https://localhost:8080/"
        },
        "id": "UHIlYt4ln-Pk",
        "outputId": "3a805513-c5a4-45eb-8a96-7773babd65ec"
      },
      "outputs": [
        {
          "output_type": "stream",
          "name": "stdout",
          "text": [
            "313/313 [==============================] - 13s 39ms/step - loss: 1.3099 - accuracy: 0.5489\n"
          ]
        },
        {
          "output_type": "execute_result",
          "data": {
            "text/plain": [
              "[1.3099454641342163, 0.5489000082015991]"
            ]
          },
          "metadata": {},
          "execution_count": 18
        }
      ],
      "source": [
        "model.evaluate(X_test,y_test)"
      ]
    },
    {
      "cell_type": "code",
      "source": [
        "y_pred=model.predict(X_test)\n",
        "y_pred_objects=[np.argmax(element) for element in y_pred]\n",
        "\n",
        "\n",
        "print(\"Classification Report: \\n\",classification_report(y_test, y_pred_objects))"
      ],
      "metadata": {
        "colab": {
          "base_uri": "https://localhost:8080/"
        },
        "id": "bfGfVI-NzL2d",
        "outputId": "e3cf766f-30f2-4813-c742-1707bc361486"
      },
      "execution_count": 22,
      "outputs": [
        {
          "output_type": "stream",
          "name": "stdout",
          "text": [
            "Classification Report: \n",
            "               precision    recall  f1-score   support\n",
            "\n",
            "           0       0.59      0.69      0.64      1000\n",
            "           1       0.61      0.76      0.68      1000\n",
            "           2       0.53      0.33      0.41      1000\n",
            "           3       0.45      0.27      0.34      1000\n",
            "           4       0.46      0.50      0.48      1000\n",
            "           5       0.43      0.50      0.46      1000\n",
            "           6       0.71      0.45      0.56      1000\n",
            "           7       0.46      0.78      0.58      1000\n",
            "           8       0.71      0.65      0.68      1000\n",
            "           9       0.63      0.55      0.59      1000\n",
            "\n",
            "    accuracy                           0.55     10000\n",
            "   macro avg       0.56      0.55      0.54     10000\n",
            "weighted avg       0.56      0.55      0.54     10000\n",
            "\n"
          ]
        }
      ]
    },
    {
      "cell_type": "code",
      "source": [
        "model1=models.Sequential([layers.Conv2D(filters=32,kernel_size=(3,3),activation='relu',input_shape=(32,32,3)),layers.MaxPooling2D((2,2)),layers.Conv2D(filters=64,kernel_size=(3,3),activation='relu'),layers.MaxPooling2D((2,2)), layers.Flatten(),layers.Dense(64,activation='relu'),layers.Dense(10,activation='softmax') ])\n",
        "\n",
        "model1.compile(optimizer='adam',loss='sparse_categorical_crossentropy',metrics=['accuracy'])"
      ],
      "metadata": {
        "id": "X-4dlDa7DNG3"
      },
      "execution_count": 26,
      "outputs": []
    },
    {
      "cell_type": "code",
      "source": [
        "model1.fit(X_train,y_train,epochs=25)"
      ],
      "metadata": {
        "colab": {
          "base_uri": "https://localhost:8080/"
        },
        "id": "sER6e5k6LXro",
        "outputId": "c2b79add-f5e2-4225-cbf2-a5baf3d85b7d"
      },
      "execution_count": 27,
      "outputs": [
        {
          "output_type": "stream",
          "name": "stdout",
          "text": [
            "Epoch 1/25\n",
            "1563/1563 [==============================] - 85s 54ms/step - loss: 1.4953 - accuracy: 0.4605\n",
            "Epoch 2/25\n",
            "1563/1563 [==============================] - 96s 62ms/step - loss: 1.1294 - accuracy: 0.6059\n",
            "Epoch 3/25\n",
            "1563/1563 [==============================] - 80s 51ms/step - loss: 1.0100 - accuracy: 0.6508\n",
            "Epoch 4/25\n",
            "1563/1563 [==============================] - 74s 47ms/step - loss: 0.9270 - accuracy: 0.6792\n",
            "Epoch 5/25\n",
            "1563/1563 [==============================] - 73s 47ms/step - loss: 0.8642 - accuracy: 0.6996\n",
            "Epoch 6/25\n",
            "1563/1563 [==============================] - 63s 41ms/step - loss: 0.8083 - accuracy: 0.7205\n",
            "Epoch 7/25\n",
            "1563/1563 [==============================] - 64s 41ms/step - loss: 0.7596 - accuracy: 0.7390\n",
            "Epoch 8/25\n",
            "1563/1563 [==============================] - 70s 45ms/step - loss: 0.7208 - accuracy: 0.7497\n",
            "Epoch 9/25\n",
            "1563/1563 [==============================] - 61s 39ms/step - loss: 0.6813 - accuracy: 0.7630\n",
            "Epoch 10/25\n",
            "1563/1563 [==============================] - 61s 39ms/step - loss: 0.6520 - accuracy: 0.7713\n",
            "Epoch 11/25\n",
            "1563/1563 [==============================] - 61s 39ms/step - loss: 0.6182 - accuracy: 0.7835\n",
            "Epoch 12/25\n",
            "1563/1563 [==============================] - 61s 39ms/step - loss: 0.5900 - accuracy: 0.7939\n",
            "Epoch 13/25\n",
            "1563/1563 [==============================] - 61s 39ms/step - loss: 0.5602 - accuracy: 0.8032\n",
            "Epoch 14/25\n",
            "1563/1563 [==============================] - 61s 39ms/step - loss: 0.5409 - accuracy: 0.8075\n",
            "Epoch 15/25\n",
            "1563/1563 [==============================] - 64s 41ms/step - loss: 0.5100 - accuracy: 0.8199\n",
            "Epoch 16/25\n",
            "1563/1563 [==============================] - 61s 39ms/step - loss: 0.4887 - accuracy: 0.8288\n",
            "Epoch 17/25\n",
            "1563/1563 [==============================] - 61s 39ms/step - loss: 0.4692 - accuracy: 0.8348\n",
            "Epoch 18/25\n",
            "1563/1563 [==============================] - 61s 39ms/step - loss: 0.4423 - accuracy: 0.8431\n",
            "Epoch 19/25\n",
            "1563/1563 [==============================] - 61s 39ms/step - loss: 0.4229 - accuracy: 0.8492\n",
            "Epoch 20/25\n",
            "1563/1563 [==============================] - 61s 39ms/step - loss: 0.4055 - accuracy: 0.8543\n",
            "Epoch 21/25\n",
            "1563/1563 [==============================] - 62s 39ms/step - loss: 0.3833 - accuracy: 0.8612\n",
            "Epoch 22/25\n",
            "1563/1563 [==============================] - 61s 39ms/step - loss: 0.3737 - accuracy: 0.8676\n",
            "Epoch 23/25\n",
            "1563/1563 [==============================] - 61s 39ms/step - loss: 0.3523 - accuracy: 0.8737\n",
            "Epoch 24/25\n",
            "1563/1563 [==============================] - 62s 40ms/step - loss: 0.3409 - accuracy: 0.8781\n",
            "Epoch 25/25\n",
            "1563/1563 [==============================] - 61s 39ms/step - loss: 0.3204 - accuracy: 0.8846\n"
          ]
        },
        {
          "output_type": "execute_result",
          "data": {
            "text/plain": [
              "<keras.callbacks.History at 0x7fcd1399bad0>"
            ]
          },
          "metadata": {},
          "execution_count": 27
        }
      ]
    },
    {
      "cell_type": "code",
      "source": [
        "model1.evaluate(X_test,y_test)"
      ],
      "metadata": {
        "colab": {
          "base_uri": "https://localhost:8080/"
        },
        "id": "tKokXN-BLdau",
        "outputId": "a7732986-c174-40b6-d50d-8d8a3a33714d"
      },
      "execution_count": 28,
      "outputs": [
        {
          "output_type": "stream",
          "name": "stdout",
          "text": [
            "313/313 [==============================] - 4s 12ms/step - loss: 1.3638 - accuracy: 0.6759\n"
          ]
        },
        {
          "output_type": "execute_result",
          "data": {
            "text/plain": [
              "[1.3637778759002686, 0.6758999824523926]"
            ]
          },
          "metadata": {},
          "execution_count": 28
        }
      ]
    },
    {
      "cell_type": "code",
      "source": [
        "y_test=y_test.reshape(-1,)"
      ],
      "metadata": {
        "id": "8WksLjnOLl0y"
      },
      "execution_count": 29,
      "outputs": []
    },
    {
      "cell_type": "code",
      "source": [
        "data(X_test,y_test,10)"
      ],
      "metadata": {
        "colab": {
          "base_uri": "https://localhost:8080/",
          "height": 172
        },
        "id": "KmhwJmELLqcC",
        "outputId": "6379351f-6563-4026-c4b3-7b6da8e3328e"
      },
      "execution_count": 30,
      "outputs": [
        {
          "output_type": "display_data",
          "data": {
            "image/png": "[encoded data removed]",
            "text/plain": [
              "<Figure size 1008x144 with 1 Axes>"
            ]
          },
          "metadata": {
            "needs_background": "light"
          }
        }
      ]
    },
    {
      "cell_type": "code",
      "source": [
        "y_pred=model1.predict(X_test)\n",
        "y_pred[:5]"
      ],
      "metadata": {
        "colab": {
          "base_uri": "https://localhost:8080/"
        },
        "id": "jHV3l7gJLuiv",
        "outputId": "fcbe0bdb-5384-4d9e-ce77-7cf82a4548cf"
      },
      "execution_count": 31,
      "outputs": [
        {
          "output_type": "execute_result",
          "data": {
            "text/plain": [
              "array([[9.0829008e-06, 5.1121729e-06, 1.3143358e-07, 9.7539449e-01,\n",
              "        9.5657857e-11, 4.2573479e-04, 1.0189746e-05, 7.6885824e-11,\n",
              "        2.4148244e-02, 7.0462520e-06],\n",
              "       [9.1948554e-05, 4.8110541e-03, 1.7414445e-09, 1.4331365e-10,\n",
              "        3.2353395e-13, 9.0595066e-12, 3.0358646e-11, 9.1728110e-18,\n",
              "        9.9488008e-01, 2.1692824e-04],\n",
              "       [9.6231812e-01, 1.1361582e-02, 1.7772535e-06, 1.0563586e-03,\n",
              "        3.9821753e-06, 2.6086270e-06, 2.1774733e-05, 7.3319399e-09,\n",
              "        2.5188129e-02, 4.5701931e-05],\n",
              "       [9.9702197e-01, 7.2881798e-05, 6.2308045e-06, 3.8261740e-09,\n",
              "        5.0529853e-10, 2.1665300e-12, 6.0356959e-09, 1.8144736e-11,\n",
              "        2.8989685e-03, 2.7596890e-08],\n",
              "       [1.8470427e-10, 1.2850178e-05, 1.1640892e-03, 1.7799357e-02,\n",
              "        1.5849552e-01, 1.2566619e-04, 8.2239610e-01, 1.5024020e-11,\n",
              "        6.3810216e-06, 2.1462053e-11]], dtype=float32)"
            ]
          },
          "metadata": {},
          "execution_count": 31
        }
      ]
    },
    {
      "cell_type": "code",
      "source": [
        "objects1=[np.argmax(element) for element in y_pred]\n",
        "objects1[:5]"
      ],
      "metadata": {
        "colab": {
          "base_uri": "https://localhost:8080/"
        },
        "id": "yrX_bMdDLxaD",
        "outputId": "82684472-6e65-4a2e-c247-4fe1c6dcf102"
      },
      "execution_count": 32,
      "outputs": [
        {
          "output_type": "execute_result",
          "data": {
            "text/plain": [
              "[3, 8, 0, 0, 6]"
            ]
          },
          "metadata": {},
          "execution_count": 32
        }
      ]
    },
    {
      "cell_type": "code",
      "source": [
        "y_test[:5]"
      ],
      "metadata": {
        "colab": {
          "base_uri": "https://localhost:8080/"
        },
        "id": "5yWKS8vKL7Mu",
        "outputId": "243ad237-7840-4b89-bdbb-4ff448d356f1"
      },
      "execution_count": 33,
      "outputs": [
        {
          "output_type": "execute_result",
          "data": {
            "text/plain": [
              "array([3, 8, 8, 0, 6], dtype=uint8)"
            ]
          },
          "metadata": {},
          "execution_count": 33
        }
      ]
    },
    {
      "cell_type": "code",
      "source": [
        "data(X_test,y_test,5)"
      ],
      "metadata": {
        "colab": {
          "base_uri": "https://localhost:8080/",
          "height": 172
        },
        "id": "o7meF3qAL9kZ",
        "outputId": "f3b2e6f0-05d0-4cc2-f221-e34212e6c292"
      },
      "execution_count": 34,
      "outputs": [
        {
          "output_type": "display_data",
          "data": {
            "image/png": "[encoded data removed]",
            "text/plain": [
              "<Figure size 1008x144 with 1 Axes>"
            ]
          },
          "metadata": {
            "needs_background": "light"
          }
        }
      ]
    },
    {
      "cell_type": "code",
      "source": [
        "objects[objects1[5]]"
      ],
      "metadata": {
        "colab": {
          "base_uri": "https://localhost:8080/",
          "height": 35
        },
        "id": "-Oy93a2gMCd-",
        "outputId": "227bb7ae-68d7-401d-915a-019c074e5717"
      },
      "execution_count": 35,
      "outputs": [
        {
          "output_type": "execute_result",
          "data": {
            "application/vnd.google.colaboratory.intrinsic+json": {
              "type": "string"
            },
            "text/plain": [
              "'frog'"
            ]
          },
          "metadata": {},
          "execution_count": 35
        }
      ]
    },
    {
      "cell_type": "code",
      "source": [
        "data(X_test,y_test,8)"
      ],
      "metadata": {
        "colab": {
          "base_uri": "https://localhost:8080/",
          "height": 172
        },
        "id": "xvLHbWxaMP91",
        "outputId": "88dc0021-d06b-4405-b604-5ef47de252a4"
      },
      "execution_count": 36,
      "outputs": [
        {
          "output_type": "display_data",
          "data": {
            "image/png": "[encoded data removed]",
            "text/plain": [
              "<Figure size 1008x144 with 1 Axes>"
            ]
          },
          "metadata": {
            "needs_background": "light"
          }
        }
      ]
    },
    {
      "cell_type": "code",
      "source": [
        "objects[objects1[8]]"
      ],
      "metadata": {
        "colab": {
          "base_uri": "https://localhost:8080/",
          "height": 35
        },
        "id": "GxIdlxIGMSNc",
        "outputId": "ffcc6e2e-fad4-4ff3-c55a-f69049c53026"
      },
      "execution_count": 37,
      "outputs": [
        {
          "output_type": "execute_result",
          "data": {
            "application/vnd.google.colaboratory.intrinsic+json": {
              "type": "string"
            },
            "text/plain": [
              "'cat'"
            ]
          },
          "metadata": {},
          "execution_count": 37
        }
      ]
    },
    {
      "cell_type": "code",
      "source": [
        "data(X_test,y_test,95)"
      ],
      "metadata": {
        "colab": {
          "base_uri": "https://localhost:8080/",
          "height": 172
        },
        "id": "eTIAroIMMkDc",
        "outputId": "644ba333-9e9c-4966-fdea-d7d3228f3823"
      },
      "execution_count": 38,
      "outputs": [
        {
          "output_type": "display_data",
          "data": {
            "image/png": "[encoded data removed]",
            "text/plain": [
              "<Figure size 1008x144 with 1 Axes>"
            ]
          },
          "metadata": {
            "needs_background": "light"
          }
        }
      ]
    },
    {
      "cell_type": "code",
      "source": [
        "objects[objects1[95]]"
      ],
      "metadata": {
        "colab": {
          "base_uri": "https://localhost:8080/",
          "height": 35
        },
        "id": "mhDJ4YtqMmUZ",
        "outputId": "b88be25f-91c1-46f9-ad6f-e9d3a5e1eb1f"
      },
      "execution_count": 39,
      "outputs": [
        {
          "output_type": "execute_result",
          "data": {
            "application/vnd.google.colaboratory.intrinsic+json": {
              "type": "string"
            },
            "text/plain": [
              "'frog'"
            ]
          },
          "metadata": {},
          "execution_count": 39
        }
      ]
    },
    {
      "cell_type": "markdown",
      "source": [
        "# **Model Saving**"
      ],
      "metadata": {
        "id": "j9B5ULrDPSMv"
      }
    },
    {
      "cell_type": "code",
      "source": [
        "model.save('CIFARmodel.h5')"
      ],
      "metadata": {
        "id": "189pHp2bM4-H"
      },
      "execution_count": 40,
      "outputs": []
    }
  ],
  "metadata": {
    "colab": {
      "name": "CIFAR10-Object-Classification.ipynb",
      "provenance": []
    },
    "kernelspec": {
      "display_name": "Python 3",
      "name": "python3"
    },
    "language_info": {
      "name": "python"
    }
  },
  "nbformat": 4,
  "nbformat_minor": 0
}